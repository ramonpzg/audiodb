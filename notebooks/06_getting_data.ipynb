{
 "cells": [
  {
   "attachments": {},
   "cell_type": "markdown",
   "metadata": {},
   "source": [
    "# 06 Getting Data"
   ]
  },
  {
   "attachments": {},
   "cell_type": "markdown",
   "metadata": {},
   "source": [
    "In this notebook, we will go over several ways of getting audio data."
   ]
  },
  {
   "attachments": {},
   "cell_type": "markdown",
   "metadata": {},
   "source": [
    "## YouTube"
   ]
  },
  {
   "cell_type": "code",
   "execution_count": 1,
   "metadata": {},
   "outputs": [],
   "source": [
    "from pytube import YouTube, Search\n",
    "from datasets import Audio, load_dataset\n",
    "from IPython.display import Audio as player\n",
    "from pprint import pprint\n",
    "from glob import glob\n",
    "import pandas as pd"
   ]
  },
  {
   "cell_type": "code",
   "execution_count": null,
   "metadata": {},
   "outputs": [],
   "source": [
    "romeo = YouTube(\"https://youtu.be/p7ff5EntWsE\", use_oauth=True, allow_oauth_cache=True)\n",
    "# yt = YouTube(\"http://youtube.com/watch?v=2lAe1cqCOXo\")"
   ]
  },
  {
   "cell_type": "code",
   "execution_count": null,
   "metadata": {},
   "outputs": [],
   "source": [
    "s = Search(\"Romeo Santos\")"
   ]
  },
  {
   "cell_type": "code",
   "execution_count": null,
   "metadata": {},
   "outputs": [],
   "source": [
    "len(s.results)"
   ]
  },
  {
   "cell_type": "code",
   "execution_count": null,
   "metadata": {},
   "outputs": [],
   "source": [
    "romeo.thumbnail_url"
   ]
  },
  {
   "cell_type": "code",
   "execution_count": null,
   "metadata": {},
   "outputs": [],
   "source": [
    "print(romeo.streams)"
   ]
  },
  {
   "cell_type": "code",
   "execution_count": null,
   "metadata": {},
   "outputs": [],
   "source": [
    "st = (\n",
    "    romeo.streams\n",
    "         .filter(\n",
    "            adaptive=True,\n",
    "            only_audio=True\n",
    "         )\n",
    ")"
   ]
  },
  {
   "cell_type": "code",
   "execution_count": null,
   "metadata": {},
   "outputs": [],
   "source": [
    "list(st)"
   ]
  },
  {
   "cell_type": "code",
   "execution_count": null,
   "metadata": {},
   "outputs": [],
   "source": [
    "stream = romeo.streams.get_by_itag('140')"
   ]
  },
  {
   "cell_type": "code",
   "execution_count": null,
   "metadata": {},
   "outputs": [],
   "source": [
    "stream.download(\n",
    "        output_path=\"../data/yt_playlists/bachata/\",\n",
    "        filename=\"romeo_santos_suegra.mp3\"\n",
    "    )"
   ]
  },
  {
   "cell_type": "code",
   "execution_count": null,
   "metadata": {},
   "outputs": [],
   "source": [
    "sample = \"/home/ramonperez/Tresors/datascience/challenges/qdrant_chl/notebooks/../data/yt_playlists/bachata/romeo_santos_suegra.mp3\""
   ]
  },
  {
   "cell_type": "code",
   "execution_count": null,
   "metadata": {},
   "outputs": [],
   "source": [
    "suegra = load_dataset(\"audiofolder\", data_dir=\"../data/yt_playlists/\", split=\"train\")\n",
    "suegra"
   ]
  },
  {
   "cell_type": "code",
   "execution_count": null,
   "metadata": {},
   "outputs": [],
   "source": [
    "sample = suegra['audio'][0]\n",
    "sample"
   ]
  },
  {
   "cell_type": "code",
   "execution_count": null,
   "metadata": {},
   "outputs": [],
   "source": [
    "player(\n",
    "    sample['array'],\n",
    "    rate=44_100,\n",
    ")"
   ]
  },
  {
   "cell_type": "code",
   "execution_count": null,
   "metadata": {},
   "outputs": [],
   "source": []
  },
  {
   "attachments": {},
   "cell_type": "markdown",
   "metadata": {},
   "source": [
    "## Part 2 - Ludwig Data Prep"
   ]
  },
  {
   "cell_type": "code",
   "execution_count": 9,
   "metadata": {},
   "outputs": [
    {
     "data": {
      "application/vnd.jupyter.widget-view+json": {
       "model_id": "1df86af0ae37476b90a4a44e2db75ea8",
       "version_major": 2,
       "version_minor": 0
      },
      "text/plain": [
       "Resolving data files:   0%|          | 0/11294 [00:00<?, ?it/s]"
      ]
     },
     "metadata": {},
     "output_type": "display_data"
    },
    {
     "name": "stderr",
     "output_type": "stream",
     "text": [
      "Found cached dataset audiofolder (/home/ramonperez/.cache/huggingface/datasets/audiofolder/default-f8fe78b3c849ea22/0.0.0/6cbdd16f8688354c63b4e2a36e1585d05de285023ee6443ffd71c4182055c0fc)\n"
     ]
    },
    {
     "data": {
      "text/plain": [
       "Dataset({\n",
       "    features: ['audio', 'label'],\n",
       "    num_rows: 200\n",
       "})"
      ]
     },
     "execution_count": 9,
     "metadata": {},
     "output_type": "execute_result"
    }
   ],
   "source": [
    "music_data = load_dataset(\"audiofolder\", data_dir=\"../data/ludwig_music_data/mp3/\", split=\"train\").shuffle(seed=42).select(range(200))\n",
    "music_data"
   ]
  },
  {
   "cell_type": "code",
   "execution_count": 3,
   "metadata": {},
   "outputs": [],
   "source": [
    "def get_the_id(data):\n",
    "    data['idx'] = data['audio']['path'].split(\"/\")[-1].replace(\".mp3\", '')\n",
    "    return data"
   ]
  },
  {
   "cell_type": "code",
   "execution_count": 10,
   "metadata": {},
   "outputs": [
    {
     "data": {
      "text/plain": [
       "'2FFXB4QJmzuwtRxj2G5IUP'"
      ]
     },
     "execution_count": 10,
     "metadata": {},
     "output_type": "execute_result"
    }
   ],
   "source": [
    "music_data[0]['audio']['path'].split(\"/\")[-1].replace(\".mp3\", '')"
   ]
  },
  {
   "cell_type": "code",
   "execution_count": 11,
   "metadata": {},
   "outputs": [
    {
     "data": {
      "application/vnd.jupyter.widget-view+json": {
       "model_id": "dcc53ec70649478d8aaca1aa6520e409",
       "version_major": 2,
       "version_minor": 0
      },
      "text/plain": [
       "Map:   0%|          | 0/200 [00:00<?, ? examples/s]"
      ]
     },
     "metadata": {},
     "output_type": "display_data"
    },
    {
     "data": {
      "text/plain": [
       "Dataset({\n",
       "    features: ['audio', 'label', 'idx'],\n",
       "    num_rows: 200\n",
       "})"
      ]
     },
     "execution_count": 11,
     "metadata": {},
     "output_type": "execute_result"
    }
   ],
   "source": [
    "music_data = music_data.map(get_the_id)\n",
    "music_data"
   ]
  },
  {
   "cell_type": "code",
   "execution_count": 12,
   "metadata": {},
   "outputs": [
    {
     "data": {
      "text/plain": [
       "array([4, 9, 0, 3, 6, 7, 2, 5, 1, 8])"
      ]
     },
     "execution_count": 12,
     "metadata": {},
     "output_type": "execute_result"
    }
   ],
   "source": [
    "music_data.to_pandas().label.unique()"
   ]
  },
  {
   "cell_type": "code",
   "execution_count": 13,
   "metadata": {},
   "outputs": [],
   "source": [
    "labels = pd.read_json(\"../data/ludwig_music_data/labels.json\")"
   ]
  },
  {
   "cell_type": "code",
   "execution_count": 14,
   "metadata": {},
   "outputs": [
    {
     "data": {
      "text/plain": [
       "{'otherSubgenres': {'L': [{'S': 'pop---vocal'}]},\n",
       " 'artist': {'S': 'Céline Dion'},\n",
       " 'aggressive': {'N': '0.00000274005969914'},\n",
       " 'happy': {'N': '0.668238401413'},\n",
       " 'party': {'N': '0.167581662536'},\n",
       " 'preview': {'S': 'https://p.scdn.co/mp3-preview/9a5c7bfbce322406f608513f803a223fe9286d81?cid=05d3a336ed33492e9e4cca1d5d7a48bd'},\n",
       " 'genre': {'S': 'pop'},\n",
       " 'name': {'S': 'Another Year Has Gone By'},\n",
       " 'relaxed': {'N': '0.964192867279'},\n",
       " 'mbid': {'S': '6a923265-38b1-4535-946a-7fc6aa79359c'},\n",
       " 'album': {'S': 'These Are Special Times'},\n",
       " 'popularity': {'N': '40'},\n",
       " 'acoustic': {'N': '0.618483126163'},\n",
       " 'electronic': {'N': '0.0580986514688'},\n",
       " 'subgenres': {'L': [{'S': 'pop---ballad'}]},\n",
       " 'sad': {'N': '0.767486810684'},\n",
       " 'PK': {'S': '014An8mZt6hTR6bsN9fo2u'},\n",
       " 'type': {'S': 'train'}}"
      ]
     },
     "execution_count": 14,
     "metadata": {},
     "output_type": "execute_result"
    }
   ],
   "source": [
    "labels.head(100)['tracks'].iloc[80]"
   ]
  },
  {
   "cell_type": "code",
   "execution_count": 16,
   "metadata": {},
   "outputs": [
    {
     "data": {
      "text/plain": [
       "'Portishead'"
      ]
     },
     "execution_count": 16,
     "metadata": {},
     "output_type": "execute_result"
    }
   ],
   "source": [
    "list(labels.head(100)['tracks'].iloc[17]['artist'].values())[0]"
   ]
  },
  {
   "cell_type": "code",
   "execution_count": 17,
   "metadata": {},
   "outputs": [
    {
     "data": {
      "text/html": [
       "<div>\n",
       "<style scoped>\n",
       "    .dataframe tbody tr th:only-of-type {\n",
       "        vertical-align: middle;\n",
       "    }\n",
       "\n",
       "    .dataframe tbody tr th {\n",
       "        vertical-align: top;\n",
       "    }\n",
       "\n",
       "    .dataframe thead th {\n",
       "        text-align: right;\n",
       "    }\n",
       "</style>\n",
       "<table border=\"1\" class=\"dataframe\">\n",
       "  <thead>\n",
       "    <tr style=\"text-align: right;\">\n",
       "      <th></th>\n",
       "      <th>ids</th>\n",
       "      <th>files</th>\n",
       "    </tr>\n",
       "  </thead>\n",
       "  <tbody>\n",
       "    <tr>\n",
       "      <th>0</th>\n",
       "      <td>2PaETSKl3w3IdtLIbDnQXJ</td>\n",
       "      <td>../data/ludwig_music_data/mp3/latin/2PaETSKl3w...</td>\n",
       "    </tr>\n",
       "    <tr>\n",
       "      <th>1</th>\n",
       "      <td>3Cu37dl54yhg2ZPrEnTx0O</td>\n",
       "      <td>../data/ludwig_music_data/mp3/latin/3Cu37dl54y...</td>\n",
       "    </tr>\n",
       "    <tr>\n",
       "      <th>2</th>\n",
       "      <td>4RTRzqkcvvkvuMK5IpFLmS</td>\n",
       "      <td>../data/ludwig_music_data/mp3/latin/4RTRzqkcvv...</td>\n",
       "    </tr>\n",
       "    <tr>\n",
       "      <th>3</th>\n",
       "      <td>5A32KQZznC2HSqr9qzTl2N</td>\n",
       "      <td>../data/ludwig_music_data/mp3/latin/5A32KQZznC...</td>\n",
       "    </tr>\n",
       "    <tr>\n",
       "      <th>4</th>\n",
       "      <td>2uPQvR5WBOI22Wj2gwwiT5</td>\n",
       "      <td>../data/ludwig_music_data/mp3/latin/2uPQvR5WBO...</td>\n",
       "    </tr>\n",
       "  </tbody>\n",
       "</table>\n",
       "</div>"
      ],
      "text/plain": [
       "                      ids                                              files\n",
       "0  2PaETSKl3w3IdtLIbDnQXJ  ../data/ludwig_music_data/mp3/latin/2PaETSKl3w...\n",
       "1  3Cu37dl54yhg2ZPrEnTx0O  ../data/ludwig_music_data/mp3/latin/3Cu37dl54y...\n",
       "2  4RTRzqkcvvkvuMK5IpFLmS  ../data/ludwig_music_data/mp3/latin/4RTRzqkcvv...\n",
       "3  5A32KQZznC2HSqr9qzTl2N  ../data/ludwig_music_data/mp3/latin/5A32KQZznC...\n",
       "4  2uPQvR5WBOI22Wj2gwwiT5  ../data/ludwig_music_data/mp3/latin/2uPQvR5WBO..."
      ]
     },
     "execution_count": 17,
     "metadata": {},
     "output_type": "execute_result"
    }
   ],
   "source": [
    "files = glob(\"../data/ludwig_music_data/mp3/latin/*.mp3\")\n",
    "ids = [i.split('/')[-1].replace(\".mp3\", '') for i in files]\n",
    "music_df = pd.DataFrame(zip(ids, files), columns=[\"ids\", 'files'])\n",
    "music_df.head()"
   ]
  },
  {
   "cell_type": "code",
   "execution_count": 18,
   "metadata": {},
   "outputs": [],
   "source": [
    "def get_metadata(x):\n",
    "    try:\n",
    "        artist = list(x['artist'].values())[0]\n",
    "        genre = list(x['genre'].values())[0]\n",
    "        name = list(x['name'].values())[0]\n",
    "    except:\n",
    "        artist = \"Unknown\"\n",
    "        genre = \"Unknown\"\n",
    "        name = \"Unknown\"\n",
    "    return pd.Series([artist, genre, name], index=['artist', 'genre', 'name'])"
   ]
  },
  {
   "cell_type": "code",
   "execution_count": 20,
   "metadata": {},
   "outputs": [
    {
     "data": {
      "text/html": [
       "<div>\n",
       "<style scoped>\n",
       "    .dataframe tbody tr th:only-of-type {\n",
       "        vertical-align: middle;\n",
       "    }\n",
       "\n",
       "    .dataframe tbody tr th {\n",
       "        vertical-align: top;\n",
       "    }\n",
       "\n",
       "    .dataframe thead th {\n",
       "        text-align: right;\n",
       "    }\n",
       "</style>\n",
       "<table border=\"1\" class=\"dataframe\">\n",
       "  <thead>\n",
       "    <tr style=\"text-align: right;\">\n",
       "      <th></th>\n",
       "      <th>index</th>\n",
       "      <th>artist</th>\n",
       "      <th>genre</th>\n",
       "      <th>name</th>\n",
       "    </tr>\n",
       "  </thead>\n",
       "  <tbody>\n",
       "    <tr>\n",
       "      <th>0</th>\n",
       "      <td>000QWvZpHrBIVrW4dGbaVI</td>\n",
       "      <td>047</td>\n",
       "      <td>electronic</td>\n",
       "      <td>General Error</td>\n",
       "    </tr>\n",
       "    <tr>\n",
       "      <th>1</th>\n",
       "      <td>0010BnyFuw94XFautS2uJp</td>\n",
       "      <td>Jimmy Buffett</td>\n",
       "      <td>latin</td>\n",
       "      <td>La Vie Dansante</td>\n",
       "    </tr>\n",
       "    <tr>\n",
       "      <th>2</th>\n",
       "      <td>0055LRFB7zfdCXDGodyIz3</td>\n",
       "      <td>New Order</td>\n",
       "      <td>rock</td>\n",
       "      <td>Doubts Even Here</td>\n",
       "    </tr>\n",
       "    <tr>\n",
       "      <th>3</th>\n",
       "      <td>005Dlt8Xaz3DkaXiRJgdiS</td>\n",
       "      <td>Ricardo Arjona</td>\n",
       "      <td>rock</td>\n",
       "      <td>Historia de Taxi</td>\n",
       "    </tr>\n",
       "    <tr>\n",
       "      <th>4</th>\n",
       "      <td>006RpKEKItNO4q8TkAUpOv</td>\n",
       "      <td>Worrytrain</td>\n",
       "      <td>electronic</td>\n",
       "      <td>They Will Make My Passage Easy</td>\n",
       "    </tr>\n",
       "  </tbody>\n",
       "</table>\n",
       "</div>"
      ],
      "text/plain": [
       "                    index          artist       genre  \\\n",
       "0  000QWvZpHrBIVrW4dGbaVI             047  electronic   \n",
       "1  0010BnyFuw94XFautS2uJp   Jimmy Buffett       latin   \n",
       "2  0055LRFB7zfdCXDGodyIz3       New Order        rock   \n",
       "3  005Dlt8Xaz3DkaXiRJgdiS  Ricardo Arjona        rock   \n",
       "4  006RpKEKItNO4q8TkAUpOv      Worrytrain  electronic   \n",
       "\n",
       "                             name  \n",
       "0                   General Error  \n",
       "1                 La Vie Dansante  \n",
       "2                Doubts Even Here  \n",
       "3                Historia de Taxi  \n",
       "4  They Will Make My Passage Easy  "
      ]
     },
     "execution_count": 20,
     "metadata": {},
     "output_type": "execute_result"
    }
   ],
   "source": [
    "clean_labels = labels['tracks'].apply(get_metadata).reset_index()\n",
    "clean_labels.head()"
   ]
  },
  {
   "cell_type": "code",
   "execution_count": 21,
   "metadata": {},
   "outputs": [
    {
     "data": {
      "text/plain": [
       "Unknown                       801\n",
       "Intro                          42\n",
       "You                            16\n",
       "Hold On                        14\n",
       "Home                           13\n",
       "                             ... \n",
       "Everywhere That I'm Not         1\n",
       "You Can Close Your Eyes         1\n",
       "I Made It Through the Rain      1\n",
       "The Green Maid                  1\n",
       "Anytime, Anyday, Anywhere       1\n",
       "Name: name, Length: 31303, dtype: int64"
      ]
     },
     "execution_count": 21,
     "metadata": {},
     "output_type": "execute_result"
    }
   ],
   "source": [
    "clean_labels.name.value_counts()"
   ]
  },
  {
   "cell_type": "code",
   "execution_count": 31,
   "metadata": {},
   "outputs": [
    {
     "data": {
      "text/html": [
       "<div>\n",
       "<style scoped>\n",
       "    .dataframe tbody tr th:only-of-type {\n",
       "        vertical-align: middle;\n",
       "    }\n",
       "\n",
       "    .dataframe tbody tr th {\n",
       "        vertical-align: top;\n",
       "    }\n",
       "\n",
       "    .dataframe thead th {\n",
       "        text-align: right;\n",
       "    }\n",
       "</style>\n",
       "<table border=\"1\" class=\"dataframe\">\n",
       "  <thead>\n",
       "    <tr style=\"text-align: right;\">\n",
       "      <th></th>\n",
       "      <th>audio</th>\n",
       "      <th>label</th>\n",
       "      <th>idx</th>\n",
       "      <th>artist</th>\n",
       "      <th>genre</th>\n",
       "      <th>name</th>\n",
       "    </tr>\n",
       "  </thead>\n",
       "  <tbody>\n",
       "    <tr>\n",
       "      <th>0</th>\n",
       "      <td>{'bytes': b'RIFF$\\\\(\\x00WAVEfmt \\x10\\x00\\x00\\x...</td>\n",
       "      <td>4</td>\n",
       "      <td>2FFXB4QJmzuwtRxj2G5IUP</td>\n",
       "      <td>Umse</td>\n",
       "      <td>hip hop</td>\n",
       "      <td>Menschen</td>\n",
       "    </tr>\n",
       "    <tr>\n",
       "      <th>1</th>\n",
       "      <td>{'bytes': b'RIFF$\\\\(\\x00WAVEfmt \\x10\\x00\\x00\\x...</td>\n",
       "      <td>9</td>\n",
       "      <td>3tPJiyCky7ILbEc3LezFkT</td>\n",
       "      <td>Nick Cave &amp; The Bad Seeds</td>\n",
       "      <td>rock</td>\n",
       "      <td>Stagger Lee</td>\n",
       "    </tr>\n",
       "    <tr>\n",
       "      <th>2</th>\n",
       "      <td>{'bytes': b'RIFF$\\\\(\\x00WAVEfmt \\x10\\x00\\x00\\x...</td>\n",
       "      <td>0</td>\n",
       "      <td>7JFVYtNn72Kg1mSs5foYKv</td>\n",
       "      <td>Be Good Tanyas</td>\n",
       "      <td>blues</td>\n",
       "      <td>The Littlest Birds</td>\n",
       "    </tr>\n",
       "    <tr>\n",
       "      <th>3</th>\n",
       "      <td>{'bytes': b'RIFF$\\\\(\\x00WAVEfmt \\x10\\x00\\x00\\x...</td>\n",
       "      <td>3</td>\n",
       "      <td>6uSuDZyZminauHXtQNMFen</td>\n",
       "      <td>Marla Glen</td>\n",
       "      <td>funk / soul</td>\n",
       "      <td>The Cost of Freedom</td>\n",
       "    </tr>\n",
       "    <tr>\n",
       "      <th>4</th>\n",
       "      <td>{'bytes': b'RIFF$\\\\(\\x00WAVEfmt \\x10\\x00\\x00\\x...</td>\n",
       "      <td>9</td>\n",
       "      <td>34w8Wslcni7dXe4SfVX8rK</td>\n",
       "      <td>Dethklok</td>\n",
       "      <td>rock</td>\n",
       "      <td>The Lost Vikings</td>\n",
       "    </tr>\n",
       "  </tbody>\n",
       "</table>\n",
       "</div>"
      ],
      "text/plain": [
       "                                               audio  label  \\\n",
       "0  {'bytes': b'RIFF$\\\\(\\x00WAVEfmt \\x10\\x00\\x00\\x...      4   \n",
       "1  {'bytes': b'RIFF$\\\\(\\x00WAVEfmt \\x10\\x00\\x00\\x...      9   \n",
       "2  {'bytes': b'RIFF$\\\\(\\x00WAVEfmt \\x10\\x00\\x00\\x...      0   \n",
       "3  {'bytes': b'RIFF$\\\\(\\x00WAVEfmt \\x10\\x00\\x00\\x...      3   \n",
       "4  {'bytes': b'RIFF$\\\\(\\x00WAVEfmt \\x10\\x00\\x00\\x...      9   \n",
       "\n",
       "                      idx                     artist        genre  \\\n",
       "0  2FFXB4QJmzuwtRxj2G5IUP                       Umse      hip hop   \n",
       "1  3tPJiyCky7ILbEc3LezFkT  Nick Cave & The Bad Seeds         rock   \n",
       "2  7JFVYtNn72Kg1mSs5foYKv             Be Good Tanyas        blues   \n",
       "3  6uSuDZyZminauHXtQNMFen                 Marla Glen  funk / soul   \n",
       "4  34w8Wslcni7dXe4SfVX8rK                   Dethklok         rock   \n",
       "\n",
       "                  name  \n",
       "0             Menschen  \n",
       "1          Stagger Lee  \n",
       "2   The Littlest Birds  \n",
       "3  The Cost of Freedom  \n",
       "4     The Lost Vikings  "
      ]
     },
     "execution_count": 31,
     "metadata": {},
     "output_type": "execute_result"
    }
   ],
   "source": [
    "music_data1 = music_data.to_pandas().merge(right=clean_labels, left_on='idx', right_on='index', how=\"left\").drop(\"index\", axis=1)\n",
    "music_data1.head()"
   ]
  },
  {
   "cell_type": "code",
   "execution_count": 24,
   "metadata": {},
   "outputs": [],
   "source": [
    "from datasets import Dataset"
   ]
  },
  {
   "cell_type": "code",
   "execution_count": 32,
   "metadata": {},
   "outputs": [
    {
     "data": {
      "text/plain": [
       "Dataset({\n",
       "    features: ['audio', 'label', 'idx', 'artist', 'genre', 'name'],\n",
       "    num_rows: 200\n",
       "})"
      ]
     },
     "execution_count": 32,
     "metadata": {},
     "output_type": "execute_result"
    }
   ],
   "source": [
    "music_data2 = Dataset.from_pandas(music_data1).remove_columns(\"__index_level_0__\", )\n",
    "music_data2"
   ]
  },
  {
   "cell_type": "code",
   "execution_count": 33,
   "metadata": {},
   "outputs": [],
   "source": [
    "music_data3 = music_data2.cast_column('audio', Audio(sampling_rate=16000))"
   ]
  },
  {
   "cell_type": "code",
   "execution_count": 34,
   "metadata": {},
   "outputs": [
    {
     "data": {
      "text/plain": [
       "{'audio': {'path': None,\n",
       "  'array': array([-1.87032768e-07, -4.16136459e-08,  4.78425022e-07, ...,\n",
       "          1.23822384e-01,  2.40178227e-01,  0.00000000e+00]),\n",
       "  'sampling_rate': 16000},\n",
       " 'label': 4,\n",
       " 'idx': '2FFXB4QJmzuwtRxj2G5IUP',\n",
       " 'artist': 'Umse',\n",
       " 'genre': 'hip hop',\n",
       " 'name': 'Menschen'}"
      ]
     },
     "execution_count": 34,
     "metadata": {},
     "output_type": "execute_result"
    }
   ],
   "source": [
    "music_data3[0]"
   ]
  },
  {
   "cell_type": "code",
   "execution_count": 35,
   "metadata": {},
   "outputs": [
    {
     "data": {
      "application/vnd.jupyter.widget-view+json": {
       "model_id": "a382a94d03b1494191d558c46ba9bf0a",
       "version_major": 2,
       "version_minor": 0
      },
      "text/plain": [
       "Saving the dataset (0/2 shards):   0%|          | 0/200 [00:00<?, ? examples/s]"
      ]
     },
     "metadata": {},
     "output_type": "display_data"
    }
   ],
   "source": [
    "music_data3.save_to_disk('../data/sample')"
   ]
  },
  {
   "cell_type": "code",
   "execution_count": null,
   "metadata": {},
   "outputs": [],
   "source": []
  }
 ],
 "metadata": {
  "kernelspec": {
   "display_name": "vdb_audio",
   "language": "python",
   "name": "python3"
  },
  "language_info": {
   "codemirror_mode": {
    "name": "ipython",
    "version": 3
   },
   "file_extension": ".py",
   "mimetype": "text/x-python",
   "name": "python",
   "nbconvert_exporter": "python",
   "pygments_lexer": "ipython3",
   "version": "3.10.10"
  },
  "orig_nbformat": 4
 },
 "nbformat": 4,
 "nbformat_minor": 2
}
